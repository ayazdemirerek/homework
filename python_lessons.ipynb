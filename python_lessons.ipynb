{
 "cells": [
  {
   "cell_type": "markdown",
   "id": "c75bdcb5-b39f-436a-a927-f2f9bf49ca75",
   "metadata": {},
   "source": [
    "### Let's say you're writing a program about years. Can you make it figure out if a year is a leap year or not?"
   ]
  },
  {
   "cell_type": "code",
   "execution_count": 19,
   "id": "57fb482e-0970-4521-929a-c9468c7cb4e7",
   "metadata": {},
   "outputs": [
    {
     "name": "stdin",
     "output_type": "stream",
     "text": [
      " Enter the year :    2020\n"
     ]
    },
    {
     "name": "stdout",
     "output_type": "stream",
     "text": [
      "leap year\n"
     ]
    }
   ],
   "source": [
    "year = int(input(\" Enter the year :   \"))\n",
    "if year%4==0 :\n",
    "    print ('leap year')\n",
    "else:\n",
    "    print ('normal year')"
   ]
  },
  {
   "cell_type": "markdown",
   "id": "c017bd01-bf8f-4a35-b64d-378da2aa9ba9",
   "metadata": {},
   "source": [
    "### Imagine you're writing a program that talks about different languages. If someone tells you their favorite language, can you make the program say something nice about it?"
   ]
  },
  {
   "cell_type": "code",
   "execution_count": 39,
   "id": "a2269f18-1809-49df-911d-42a8b09d7b28",
   "metadata": {},
   "outputs": [
    {
     "name": "stdin",
     "output_type": "stream",
     "text": [
      "enter the language    RUSSIAN\n"
     ]
    },
    {
     "name": "stdout",
     "output_type": "stream",
     "text": [
      "Привет\n"
     ]
    }
   ],
   "source": [
    "language=input(\"enter the language   \").title()\n",
    "if language=='Spanish':\n",
    "    print ('Hola')\n",
    "elif language=='English':\n",
    "    print ('Hello')\n",
    "elif language== 'Turkish':\n",
    "    print ('Merhaba')\n",
    "elif language== 'Russian':\n",
    "    print ('Привет')"
   ]
  },
  {
   "cell_type": "markdown",
   "id": "e5a41dc3-cf3f-4cf7-95dc-ad30bb766702",
   "metadata": {},
   "source": [
    "### Picture a program that understands about health. Can you make it tell if someone is underweight, normal weight, overweight, or obese based on their weight and height?"
   ]
  },
  {
   "cell_type": "code",
   "execution_count": 52,
   "id": "fcf0223d-c5b6-4cae-aa5a-ac34b13f8b41",
   "metadata": {},
   "outputs": [
    {
     "name": "stdin",
     "output_type": "stream",
     "text": [
      "What is your weight:   55\n",
      "What is your height:   1.65\n"
     ]
    },
    {
     "name": "stdout",
     "output_type": "stream",
     "text": [
      "you are normal\n"
     ]
    }
   ],
   "source": [
    "weight=int(input(\"What is your weight:  \"))\n",
    "height=float(input(\"What is your height:  \"))\n",
    "\n",
    "BMI=weight/height**2\n",
    "\n",
    "\n",
    "if BMI<18.5:\n",
    "    print ('you are slim')\n",
    "elif 18.5<BMI<24.9:\n",
    "    print('you are normal')\n",
    "elif 24.9<BMI<29.9:\n",
    "    print ('you are owerweigt')\n",
    "else:\n",
    "    print (' you are obese')"
   ]
  },
  {
   "cell_type": "markdown",
   "id": "4926a749-8766-43c3-b33d-10245c4bb9fc",
   "metadata": {},
   "source": [
    "### Suppose you're writing a program that deals with numbers. If someone tells you a number, can you make the program find out its square root if it's positive"
   ]
  },
  {
   "cell_type": "code",
   "execution_count": 3,
   "id": "78203f49-b59e-48f2-bcb1-9d45e2c286b2",
   "metadata": {},
   "outputs": [],
   "source": [
    "import math"
   ]
  },
  {
   "cell_type": "code",
   "execution_count": 13,
   "id": "da96267a-5f7c-47cb-a13d-90d90baf7de4",
   "metadata": {},
   "outputs": [
    {
     "name": "stdin",
     "output_type": "stream",
     "text": [
      "write a number:    10\n"
     ]
    },
    {
     "name": "stdout",
     "output_type": "stream",
     "text": [
      "10 is positive and square root is 3.1622776601683795 \n"
     ]
    }
   ],
   "source": [
    "number = int(input(\"write a number:   \"))\n",
    "\n",
    "if number > 0 :\n",
    "    print(f'{number} is positive and square root is {math.sqrt(number)} ')\n",
    "elif number < 0 :\n",
    "    print ('negative')\n"
   ]
  },
  {
   "cell_type": "markdown",
   "id": "aad06d6f-e0a4-4c1d-a152-344d8ed10c78",
   "metadata": {},
   "source": [
    "### Imagine a program that needs a secret code to let someone in. If someone tries to log in, can you make the program check if they have the right username and password?"
   ]
  },
  {
   "cell_type": "code",
   "execution_count": 6,
   "id": "f5ad71bf-c1c0-43e4-a668-7facbf3eddfa",
   "metadata": {},
   "outputs": [
    {
     "name": "stdin",
     "output_type": "stream",
     "text": [
      "write your username:   ayaz demir erek\n",
      " write your password:   ade\n"
     ]
    },
    {
     "name": "stdout",
     "output_type": "stream",
     "text": [
      "Incorrect\n"
     ]
    }
   ],
   "source": [
    "name = input(\"write your username:  \")\n",
    "pasword=input(\" write your password:  \")\n",
    "\n",
    "username= 'Ayaz Demir EREK'\n",
    "password= 'ADE'\n",
    "\n",
    "if name == username and password==pasword:\n",
    "    print ('Welcome!')\n",
    "else:\n",
    "    print ('Incorrect')\n",
    "    \n"
   ]
  },
  {
   "cell_type": "markdown",
   "id": "eb7385fb-ce09-4785-8f3c-b09c05e567da",
   "metadata": {},
   "source": [
    "### Let's say you're writing a program to help with learning multiplication. Can you make it show the times table for a number someone picks, from 1 to 10? "
   ]
  },
  {
   "cell_type": "code",
   "execution_count": 11,
   "id": "7d63108b-248d-4008-88a4-e18fba5f915a",
   "metadata": {},
   "outputs": [
    {
     "name": "stdin",
     "output_type": "stream",
     "text": [
      "write a number:   10\n"
     ]
    },
    {
     "name": "stdout",
     "output_type": "stream",
     "text": [
      "10 20 30 40 50 60 70 80 90 100\n"
     ]
    }
   ],
   "source": [
    "number=int(input(\"write a number:  \"))\n",
    "\n",
    "if number==1:\n",
    "    print (1,2,3,4,5,6,7,8,9,10)\n",
    "elif number==2:\n",
    "    print (2,4,6,8,10,12,14,16,18,20)\n",
    "elif number==3:\n",
    "    print (3,6,9,12,15,18,21,24,27,30)\n",
    "elif number==4:\n",
    "    print (4,8,12,16,20,24,28,32,36,40)\n",
    "elif number==5:\n",
    "    print (5,10,15,20,25,30,35,40,45,50)\n",
    "elif number==6:\n",
    "    print (6,12,18,24,30,36,42,48,54,60)\n",
    "elif number==7:\n",
    "    print (7,14,21,28,35,42,49,56,63,70)\n",
    "elif number==8:\n",
    "    print (8,16,24,32,40,48,56,64,72,80)\n",
    "elif number==9:\n",
    "    print (9,18,27,36,45,54,63,72,81,90)\n",
    "elif number==10:\n",
    "    print (10,20,30,40,50,60,70,80,90,100)\n",
    "    "
   ]
  },
  {
   "cell_type": "code",
   "execution_count": null,
   "id": "c1b47950-6e70-4266-9f6d-816db1ca54fb",
   "metadata": {},
   "outputs": [],
   "source": []
  }
 ],
 "metadata": {
  "kernelspec": {
   "display_name": "Python 3 (ipykernel)",
   "language": "python",
   "name": "python3"
  },
  "language_info": {
   "codemirror_mode": {
    "name": "ipython",
    "version": 3
   },
   "file_extension": ".py",
   "mimetype": "text/x-python",
   "name": "python",
   "nbconvert_exporter": "python",
   "pygments_lexer": "ipython3",
   "version": "3.11.5"
  }
 },
 "nbformat": 4,
 "nbformat_minor": 5
}
